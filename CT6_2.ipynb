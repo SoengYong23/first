{
  "nbformat": 4,
  "nbformat_minor": 0,
  "metadata": {
    "colab": {
      "provenance": [],
      "authorship_tag": "ABX9TyO2yP+Mw6uclUKdD23nOHTb",
      "include_colab_link": true
    },
    "kernelspec": {
      "name": "python3",
      "display_name": "Python 3"
    },
    "language_info": {
      "name": "python"
    }
  },
  "cells": [
    {
      "cell_type": "markdown",
      "metadata": {
        "id": "view-in-github",
        "colab_type": "text"
      },
      "source": [
        "<a href=\"https://colab.research.google.com/github/SoengYong23/first/blob/main/CT6_2.ipynb\" target=\"_parent\"><img src=\"https://colab.research.google.com/assets/colab-badge.svg\" alt=\"Open In Colab\"/></a>"
      ]
    },
    {
      "cell_type": "code",
      "execution_count": null,
      "metadata": {
        "id": "63TpNGtvXlfu"
      },
      "outputs": [],
      "source": []
    },
    {
      "cell_type": "code",
      "source": [
        "total= 0                                                   # total은 현재까지 학생들의 성적의 총합이다\n",
        "counter= 1                                                 # counter는 몆번째 학생의 성적인지 나타내는 수이다\n",
        "while counter <= 10 :                                      # counter를 10으로 만들어라\n",
        "        grade=int(input(\"grade의 값을 입력하시오.:\"))      # grade값은 학생들의 성적 입력이다\n",
        "        total = grade + total                              # total값은 현재까지의 학생들의 총 성적이다\n",
        "        counter = counter + 1                              # counter를 10으로 만들어라\n",
        "average = total/10                                         # 총 total값을 10으로 나누어라\n",
        "print('합=',total, '평균=',average)                        # 학생 성적의 평균을 출력하라\n"
      ],
      "metadata": {
        "colab": {
          "base_uri": "https://localhost:8080/"
        },
        "id": "1MfEXY3-X-qJ",
        "outputId": "928ba7b2-4b7d-4cba-e21a-694cdbd8b2a5"
      },
      "execution_count": 33,
      "outputs": [
        {
          "output_type": "stream",
          "name": "stdout",
          "text": [
            "grade의 값을 입력하시오.:1\n",
            "grade의 값을 입력하시오.:2\n",
            "grade의 값을 입력하시오.:3\n",
            "grade의 값을 입력하시오.:4\n",
            "grade의 값을 입력하시오.:5\n",
            "grade의 값을 입력하시오.:6\n",
            "grade의 값을 입력하시오.:7\n",
            "grade의 값을 입력하시오.:8\n",
            "grade의 값을 입력하시오.:9\n",
            "grade의 값을 입력하시오.:10\n",
            "합= 55 평균= 5.5\n"
          ]
        }
      ]
    }
  ]
}